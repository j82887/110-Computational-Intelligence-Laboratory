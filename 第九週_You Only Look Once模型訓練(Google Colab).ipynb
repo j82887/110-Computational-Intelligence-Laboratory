{
 "cells": [
  {
   "cell_type": "markdown",
   "metadata": {
    "id": "hZGXjB-p1Hdr"
   },
   "source": [
    "## 01. 檢查 GPU"
   ]
  },
  {
   "cell_type": "code",
   "execution_count": null,
   "metadata": {
    "colab": {
     "base_uri": "https://localhost:8080/"
    },
    "id": "I4JzHIDguJNc",
    "outputId": "fc6f1279-9038-4f25-8a32-e216962f210e"
   },
   "outputs": [],
   "source": [
    "! nvidia-smi"
   ]
  },
  {
   "cell_type": "markdown",
   "metadata": {
    "id": "cl10cvqq16lw"
   },
   "source": [
    "## 02. 使用 git 來下載 Darknet (AlexeyAB 版本)"
   ]
  },
  {
   "cell_type": "code",
   "execution_count": null,
   "metadata": {
    "colab": {
     "base_uri": "https://localhost:8080/"
    },
    "id": "YMWbo4P8rnMF",
    "outputId": "bc89f69d-5ccf-4099-dd00-a061619355ce"
   },
   "outputs": [],
   "source": [
    "! git clone https://github.com/AlexeyAB/darknet.git"
   ]
  },
  {
   "cell_type": "markdown",
   "metadata": {
    "id": "c16_kJbfi6BM"
   },
   "source": [
    "## 03. head 來查看 Makefile 的參數"
   ]
  },
  {
   "cell_type": "code",
   "execution_count": null,
   "metadata": {
    "colab": {
     "base_uri": "https://localhost:8080/"
    },
    "id": "fk9ZRGUvskVd",
    "outputId": "7bbcbb79-0c23-4ad9-aa76-706dc677efa1"
   },
   "outputs": [],
   "source": [
    "! head darknet/Makefile"
   ]
  },
  {
   "cell_type": "markdown",
   "metadata": {
    "id": "SVzSvWfIxcB5"
   },
   "source": [
    "## 04. 參數說明\n",
    "- GPU=1 調用 GPU CUDA\n",
    "- CUDNN=1 調用 cuDNN v5-v7 加速訓練 \n",
    "- CUDNN_HALF=1 調用 Tensor Cores (適用於 Titan V / Tesla V100 / DGX-2 and later) 偵測加速 3 倍, 訓練加速 2 倍\n",
    "- OPENCV=1 調用 OpenCV 3.x/2.4.x - 用於攝影機偵測用"
   ]
  },
  {
   "cell_type": "markdown",
   "metadata": {
    "id": "PnDwjxB6jS5T"
   },
   "source": [
    "## 05. sad 來逐步修改 Makefile 內的參數"
   ]
  },
  {
   "cell_type": "code",
   "execution_count": null,
   "metadata": {
    "id": "mw-VafJ3tDdW"
   },
   "outputs": [],
   "source": [
    "! sed -i \"s/GPU=0/GPU=1/g\" /content/darknet/Makefile\n",
    "! sed -i \"s/CUDNN=0/CUDNN=1/g\" /content/darknet/Makefile\n",
    "! sed -i \"s/OPENCV=0/OPENCV=1/g\" /content/darknet/Makefile"
   ]
  },
  {
   "cell_type": "code",
   "execution_count": null,
   "metadata": {
    "colab": {
     "base_uri": "https://localhost:8080/"
    },
    "id": "rhJuAtpnte6r",
    "outputId": "f89ed575-32b7-492c-b044-1a39e22b8799"
   },
   "outputs": [],
   "source": [
    "! head darknet/Makefile"
   ]
  },
  {
   "cell_type": "markdown",
   "metadata": {
    "id": "2qMcu1xM2DYr"
   },
   "source": [
    "## 06. 編譯 YOLOv4"
   ]
  },
  {
   "cell_type": "code",
   "execution_count": null,
   "metadata": {
    "colab": {
     "base_uri": "https://localhost:8080/"
    },
    "id": "ZsouO_SXtg9y",
    "outputId": "5b496806-7d48-46ec-e6cb-d8e71d46d032"
   },
   "outputs": [],
   "source": [
    "! cd darknet; make"
   ]
  },
  {
   "cell_type": "markdown",
   "metadata": {
    "id": "zd7nycjG2JPP"
   },
   "source": [
    "## 使用 YOLOv4"
   ]
  },
  {
   "cell_type": "code",
   "execution_count": null,
   "metadata": {
    "colab": {
     "base_uri": "https://localhost:8080/"
    },
    "id": "T_0XRgnxtmFz",
    "outputId": "0256f577-39af-45c9-b8a7-d0dc2acb376d"
   },
   "outputs": [],
   "source": [
    "# 位置更正至darknet資料夾中\n",
    "! cd darknet ; ./darknet "
   ]
  },
  {
   "cell_type": "markdown",
   "metadata": {
    "id": "y_PGHCUP2YmH"
   },
   "source": [
    "## 下載權重\n",
    "- Yolo v4 \n",
    "- Yolo Tiny"
   ]
  },
  {
   "cell_type": "code",
   "execution_count": null,
   "metadata": {
    "colab": {
     "base_uri": "https://localhost:8080/"
    },
    "id": "fgan08_dvaoY",
    "outputId": "e17dd342-f14b-4baa-eda6-cdcc7969c2ca"
   },
   "outputs": [],
   "source": [
    "# yolo v4\n",
    "! gdown https://drive.google.com/uc?id=1cewMfusmPjYWbrnuJRuKhPMwRe_b9PaT \n",
    "\n",
    "# yolo v4 Tiny\n",
    "! gdown https://github.com/AlexeyAB/darknet/releases/download/darknet_yolo_v4_pre/yolov4-tiny.weights"
   ]
  },
  {
   "cell_type": "markdown",
   "metadata": {
    "id": "siuXA-W0n2RZ"
   },
   "source": [
    "# 連結至雲端硬碟"
   ]
  },
  {
   "cell_type": "code",
   "execution_count": null,
   "metadata": {
    "colab": {
     "base_uri": "https://localhost:8080/"
    },
    "id": "2Ox4H2uRwyGD",
    "outputId": "61176d84-f828-4414-e62e-9fa142acb3a4"
   },
   "outputs": [],
   "source": [
    "from google.colab import drive\n",
    "drive.mount('/content/drive')"
   ]
  },
  {
   "cell_type": "markdown",
   "metadata": {
    "id": "ER1u_1Kdn8aY"
   },
   "source": [
    "# 雲端硬碟資料進行複製"
   ]
  },
  {
   "cell_type": "code",
   "execution_count": null,
   "metadata": {
    "id": "4z4q8cExqGw0"
   },
   "outputs": [],
   "source": [
    "# 複製影像與標籤資料的壓縮檔\n",
    "! cp \"/content/drive/MyDrive/Dataset/Car_License_Plate/positive.zip\" /content/"
   ]
  },
  {
   "cell_type": "code",
   "execution_count": null,
   "metadata": {
    "id": "TQr9GjUYqEjZ"
   },
   "outputs": [],
   "source": [
    "# 解壓縮車牌影像資料\n",
    "! unzip /content/positive.zip > data_unzip.log"
   ]
  },
  {
   "cell_type": "markdown",
   "metadata": {
    "id": "GUqpnA4l2hQP"
   },
   "source": [
    "## 使用YOLOv4偵測與辨識物件"
   ]
  },
  {
   "cell_type": "code",
   "execution_count": null,
   "metadata": {
    "colab": {
     "base_uri": "https://localhost:8080/"
    },
    "id": "RCAA4L8owApC",
    "outputId": "ee1b3806-c401-4c6e-8fdf-001f70308e54"
   },
   "outputs": [],
   "source": [
    "#給予設定檔、權重與影片來作預測\n",
    "#! cd darknet; ./darknet detect /content/darknet/cfg/yolov4.cfg  /content/yolov4.weights /content/darknet/data/person.jpg\n",
    "\n",
    "#自己雲端內的影像\n",
    "! cd darknet; ./darknet detect /content/darknet/cfg/yolov4-tiny.cfg  /content/yolov4-tiny.weights /content/rawdata/bmpraw051.bmp"
   ]
  },
  {
   "cell_type": "code",
   "execution_count": null,
   "metadata": {
    "colab": {
     "base_uri": "https://localhost:8080/",
     "height": 242
    },
    "id": "PilG85DewnMg",
    "outputId": "71cb2060-1850-4bca-926b-0ff33a7ad18f"
   },
   "outputs": [],
   "source": [
    "from PIL import Image\n",
    "Image.open('/content/darknet/predictions.jpg')"
   ]
  },
  {
   "cell_type": "code",
   "execution_count": null,
   "metadata": {
    "id": "kNk9WENwtF31"
   },
   "outputs": [],
   "source": [
    "import os\n",
    "import shutil\n",
    "\n",
    "path = \"/content/label\"\n",
    "folder = os.path.exists(path) #判斷目錄是否存在\n",
    "\n",
    "#如果不存在，則建立新目錄\n",
    "if not folder: \n",
    "  os.makedirs(path) \n",
    "\n",
    "#如果目錄已存在，則刪除再建立\n",
    "else:\n",
    "  shutil.rmtree(path)\n",
    "  os.makedirs(path) "
   ]
  },
  {
   "cell_type": "code",
   "execution_count": null,
   "metadata": {
    "id": "Tyc6w8a27y2k"
   },
   "outputs": [],
   "source": [
    "import cv2\n",
    "\n",
    "with open(\"/content/info.txt\", mode=\"r\") as f:\n",
    "  text = f.read()\n",
    "  text = text.split()\n",
    "  for i in range(int(len(text)/6)):\n",
    "    new_text = \"\"\n",
    "\n",
    "    img = cv2.imread(text[i*6])\n",
    "    height, width, channels = img.shape\n",
    "\n",
    "    label = str(0) # 原本標註檔text[i*6+1]為1，但是yolo標籤是以0開始計算，所以這裡設為0\n",
    "    x = int(text[i*6+2])\n",
    "    y = int(text[i*6+3])\n",
    "    w = int(text[i*6+4])\n",
    "    h = int(text[i*6+5])\n",
    "    ncx = (x+w/2)/width\n",
    "    ncy = (y+h/2)/height\n",
    "    nw = w/width\n",
    "    nh = h/height\n",
    "    new_text += label + \" \" + str(ncx) + \" \" + str(ncy) + \" \" + str(nw) + \" \" + str(nh)\n",
    "    \n",
    "    with open(\"/content/label/\"+ text[i*6][8:17] +\".txt\", mode=\"w\") as fn:\n",
    "      print(new_text, file=fn)"
   ]
  },
  {
   "cell_type": "markdown",
   "metadata": {
    "id": "Vp3pGqJs42Sc"
   },
   "source": [
    "## 測試正規化後的標籤轉化後繪製於影像上"
   ]
  },
  {
   "cell_type": "code",
   "execution_count": null,
   "metadata": {
    "colab": {
     "base_uri": "https://localhost:8080/",
     "height": 269
    },
    "id": "BaIKEx1uz-Ng",
    "outputId": "e9648a3f-c948-4e00-fc6e-6a663692a653"
   },
   "outputs": [],
   "source": [
    "import matplotlib.pyplot as plt\n",
    "\n",
    "img = cv2.imread(\"/content/rawdata/bmpraw001.bmp\")\n",
    "height, width, channels = img.shape\n",
    "\n",
    "with open(\"/content/label/bmpraw001.txt\", mode=\"r\") as f:\n",
    "  text = f.read()\n",
    "  text = text.split()\n",
    "\n",
    "  w = int(float(text[3])*width)\n",
    "  h = int(float(text[4])*height)\n",
    "  x = int(float(text[1])*width-w/2)\n",
    "  y = int(float(text[2])*height-h/2)\n",
    "\n",
    "cv2.rectangle(img, (x, y), (x+w, y+h), (0, 0, 255), 1)\n",
    "\n",
    "plt.imshow(cv2.cvtColor(img,cv2.COLOR_BGR2RGB))\n",
    "plt.show()"
   ]
  },
  {
   "cell_type": "code",
   "execution_count": null,
   "metadata": {
    "id": "wK3CPfVeB858"
   },
   "outputs": [],
   "source": [
    "# 建立設定檔空資料夾\n",
    "! rm -rf /content/cfg_mask\n",
    "! mkdir /content/cfg_mask\n",
    "\n",
    "# 建立存放標籤與影像資料夾\n",
    "! rm -rf /content/yolo\n",
    "! mkdir /content/yolo\n",
    "\n",
    "# 將影像與標籤複製於yolo資料夾中\n",
    "! cp /content/label/* /content/yolo\n",
    "! cp /content/rawdata/* /content/yolo"
   ]
  },
  {
   "cell_type": "code",
   "execution_count": null,
   "metadata": {
    "colab": {
     "base_uri": "https://localhost:8080/"
    },
    "id": "0_WCKYADCy3n",
    "outputId": "92baa6e8-2694-4045-ec7b-6764ffbd3b8a"
   },
   "outputs": [],
   "source": [
    "# 將非\".txt\"檔案的路徑字串存放於datasets\n",
    "datasets = ['/content/yolo/'+ f for f in os.listdir('/content/yolo/') if not f.endswith('.txt')]\n",
    "len(datasets) * 0.8"
   ]
  },
  {
   "cell_type": "code",
   "execution_count": null,
   "metadata": {
    "id": "ZobfzD51C6pB"
   },
   "outputs": [],
   "source": [
    "with open('/content/cfg_mask/train.txt', 'w') as f:\n",
    "    f.write('\\n'.join(datasets[0:400]))"
   ]
  },
  {
   "cell_type": "code",
   "execution_count": null,
   "metadata": {
    "id": "CTR8-37lC_J8"
   },
   "outputs": [],
   "source": [
    "with open('/content/cfg_mask/test.txt', 'w') as f:\n",
    "    f.write('\\n'.join(datasets[400:]))"
   ]
  },
  {
   "cell_type": "markdown",
   "metadata": {
    "id": "ucKNwZTEIcqW"
   },
   "source": [
    "## 尋找設定檔(.data .names .cfg)與建立自己的設定檔\n",
    "1. 從darknet複製的原始.data、.names、.cfg檔案，存在cfg_mask\n",
    "2. 關於`.data`：\n",
    "       \n",
    "        class = 1\n",
    "        train = /content/cfg_mask/train.txt\n",
    "        valid = /content/cfg_mask/test.txt\n",
    "        names = /content/cfg_mask/coco.names\n",
    "        backup = /content/cfg_mask\n",
    "其中classes為種類數，train為訓練資料的詳細位置，valid為驗證資料的詳細位置，names為.names的詳細位置，backup為權重存在的位置\n",
    "\n",
    "3. .names檔案，更改為你的標籤名稱：\n",
    "        License Plate\n",
    "4. 關於`.cfg`：\n",
    "* 第1-7行：\n",
    "\n",
    "        [net]\n",
    "        # Testing\n",
    "        # batch=1\n",
    "        # subdivisions=1\n",
    "        # Training\n",
    "        batch=64\n",
    "        subdivisions=1\n",
    "由於是進行訓練，這裡不需要修改。訓練過程中可能出現CUDA out of memory的提示，可將這裡的subdivisions增大，如16,32或64，但是數值越大耗时越长，因此需要權衡一下。\n",
    "\n",
    "* 第8-9行將608修改為416 (Tiny預設為416)：\n",
    "\n",
    "        width=416\n",
    "        height=416\n",
    "注意：這裡也可不改，如果原始的數值608可能會導致CUDA out of memory的提示，而且這裡的數值必須是32的倍數，這裡也是數值越大耗时越長。\n",
    "\n",
    "* 第21行的參數max_batches也要修改，原始值為500500 (Tiny預設為2000200)，max_batches = classes*2000，但是max_batches不要低於訓練的影像張數，這裡只訓練1類，因此max_batches = 2000。\n",
    "\n",
    "* 第23行的參數steps=4800,5400 (Tiny預設為160000, 180000)，這兩個數值分别為max_batches的80%和90%。\n",
    "\n",
    "* 按Ctrl+F鍵，搜索“classes”，一共有2或3處，先定位到第一處，將classes=80改為classes=1，並將classes前面最近的filters修改为18，計算方式為（classes+5）*3=18。按照上面的步驟同樣修改第2(與3)處的classes與filters。\n"
   ]
  },
  {
   "cell_type": "code",
   "execution_count": null,
   "metadata": {
    "id": "lQ6DrpaRDNrb"
   },
   "outputs": [],
   "source": [
    "#從darknet複製的原始.data、.names、.cfg檔案，存在cfg_mask\n",
    "! cp \"/content/darknet/cfg/coco.data\" cfg_mask/\n",
    "! cp \"/content/darknet/cfg/coco.names\" cfg_mask/\n",
    "! cp \"/content/darknet/cfg/yolov4-tiny.cfg\" cfg_mask/\n",
    "#! cp \"/content/darknet/cfg/yolov4.cfg\" cfg_mask/"
   ]
  },
  {
   "cell_type": "code",
   "execution_count": null,
   "metadata": {
    "colab": {
     "base_uri": "https://localhost:8080/"
    },
    "id": "tWY87byzHEFN",
    "outputId": "3553b544-b59d-40b9-b2e3-9b3600a333d1"
   },
   "outputs": [],
   "source": [
    "# 下載預訓練模型\n",
    "!wget https://github.com/AlexeyAB/darknet/releases/download/darknet_yolo_v3_optimal/yolov4.conv.137"
   ]
  },
  {
   "cell_type": "markdown",
   "metadata": {
    "id": "u1D7tnZ-nsdF"
   },
   "source": [
    "# 訓練模型"
   ]
  },
  {
   "cell_type": "code",
   "execution_count": null,
   "metadata": {
    "colab": {
     "base_uri": "https://localhost:8080/"
    },
    "id": "TFW9fYVeJClP",
    "outputId": "37b4a69f-e56b-4995-a5d4-19c9b0829d88"
   },
   "outputs": [],
   "source": [
    "!./darknet/darknet detector train cfg_mask/coco.data cfg_mask/yolov4-tiny.cfg yolov4.conv.137 -dont_show -map"
   ]
  },
  {
   "cell_type": "code",
   "execution_count": null,
   "metadata": {
    "id": "AiwPLeweIqn4"
   },
   "outputs": [],
   "source": [
    "# 將最後權重與設定檔複製於雲端硬碟中\n",
    "! cp /content/cfg_mask/yolov4-tiny_final.weights /content/drive/MyDrive\n",
    "! cp /content/cfg_mask/yolov4-tiny.cfg /content/drive/MyDrive"
   ]
  }
 ],
 "metadata": {
  "colab": {
   "collapsed_sections": [],
   "name": "Yolo v4_License Plate",
   "provenance": []
  },
  "kernelspec": {
   "display_name": "Python 3",
   "language": "python",
   "name": "python3"
  },
  "language_info": {
   "codemirror_mode": {
    "name": "ipython",
    "version": 3
   },
   "file_extension": ".py",
   "mimetype": "text/x-python",
   "name": "python",
   "nbconvert_exporter": "python",
   "pygments_lexer": "ipython3",
   "version": "3.6.10"
  }
 },
 "nbformat": 4,
 "nbformat_minor": 1
}
