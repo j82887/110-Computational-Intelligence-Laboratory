{
 "cells": [
  {
   "cell_type": "markdown",
   "metadata": {
    "id": "ecUpHUezDySq"
   },
   "source": [
    "# **線性回歸 (Linear Regression)**\n",
    "\n",
    "![Aaron Swartz](https://www.superheuristics.com/wp-content/uploads/2018/10/Equation-of-Linear-Regression.png)\n",
    "\n",
    "* 使用Kaggle中的A Collection of Patients BMI Data 資料集:\n",
    "https://www.kaggle.com/freego1/bmi-data\n",
    "\n",
    "  * 此數據集具有25,000個患者，為csv副檔名的檔案\n",
    "  * 輸入特徵為性別、年齡(年)、身高(英吋)與體重(磅)\n",
    "  * 輸出特徵為BMI(公斤/公尺平方)\n",
    "  * 缺失值數量：身高為19，體重為16，BMI缺失值為50\n"
   ]
  },
  {
   "cell_type": "markdown",
   "metadata": {
    "id": "E4Q2WIuac0nF"
   },
   "source": [
    "## **01. 資料集 讀取與清洗**\n",
    "### A. 讀取資料集\n",
    "* google.colab 中的 files.upload() 讀取本機檔案\n",
    "* pandas 中的 [read_csv()](https://pandas.pydata.org/pandas-docs/stable/reference/api/pandas.read_csv.html) 讀取.csv檔案\n",
    "* pandas 中的 [DataFrame.head(x)](https://pandas.pydata.org/pandas-docs/stable/reference/api/pandas.DataFrame.head.html) 讀取DataFrame前x列，x預設為5\n"
   ]
  },
  {
   "cell_type": "code",
   "execution_count": null,
   "metadata": {
    "colab": {
     "base_uri": "https://localhost:8080/",
     "height": 77,
     "resources": {
      "http://localhost:8080/nbextensions/google.colab/files.js": {
       "data": "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",
       "headers": [
        [
         "content-type",
         "application/javascript"
        ]
       ],
       "ok": true,
       "status": 200,
       "status_text": ""
      }
     }
    },
    "id": "3z7l6QYl1dCw",
    "outputId": "d08e249e-569b-4152-8b61-d6acbdf66e1e"
   },
   "outputs": [],
   "source": [
    "# 使用Coalb讀取本機檔案\n",
    "from google.colab import files\n",
    "uploaded = files.upload()"
   ]
  },
  {
   "cell_type": "code",
   "execution_count": null,
   "metadata": {
    "colab": {
     "base_uri": "https://localhost:8080/",
     "height": 206
    },
    "id": "_nnvJ-ow2Kwy",
    "outputId": "c3d9233b-f5ef-47c8-8e9c-6599cae4ace7"
   },
   "outputs": [],
   "source": [
    "# 匯入套件pandas\n",
    "import pandas as pd\n",
    "\n",
    "# 讀取資料集\n",
    "rawdata = pd.read_csv('bmi_data.csv')\n",
    "\n",
    "# 打印前五筆\n",
    "rawdata.head()"
   ]
  },
  {
   "cell_type": "markdown",
   "metadata": {
    "id": "wztuYT_P669x"
   },
   "source": [
    "### B. 資料清洗 (針對非數值與空值)\n",
    "* pandas 中的 [DataFrame.dtypes](https://pandas.pydata.org/pandas-docs/stable/reference/api/pandas.DataFrame.dtypes.html) 讀取每一欄位的型別\n",
    "* pandas 中的 [DataFrame.loc](https://pandas.pydata.org/pandas-docs/stable/reference/api/pandas.DataFrame.loc.html) 可針對欄位條件篩選來做修改\n",
    "* pandas 中的 [DataFrame.isnull()](https://pandas.pydata.org/pandas-docs/stable/reference/api/pandas.DataFrame.isnull.html).any() 可以返回有缺失值的欄位名稱\n",
    "* pandas 中的 [DataFrame.dropna()](https://pandas.pydata.org/pandas-docs/stable/reference/api/pandas.DataFrame.dropna.html) 返回一個無缺失值的dataframe\n"
   ]
  },
  {
   "cell_type": "code",
   "execution_count": null,
   "metadata": {
    "colab": {
     "base_uri": "https://localhost:8080/"
    },
    "id": "PbuwovBa7-3a",
    "outputId": "7ade5287-fd1c-414d-b39a-c5484340012b"
   },
   "outputs": [],
   "source": [
    "# 查看型別\n",
    "rawdata.dtypes"
   ]
  },
  {
   "cell_type": "code",
   "execution_count": null,
   "metadata": {
    "id": "65wT5_nZKxkM"
   },
   "outputs": [],
   "source": [
    "# 性別轉為數值：男性轉為0, 女性轉為1\n",
    "rawdata.loc[rawdata['Sex']=='Male','Sex']=0\n",
    "rawdata.loc[rawdata['Sex']=='Female','Sex']=1"
   ]
  },
  {
   "cell_type": "code",
   "execution_count": null,
   "metadata": {
    "colab": {
     "base_uri": "https://localhost:8080/",
     "height": 206
    },
    "id": "A1ijzJ9WQWE_",
    "outputId": "41d49b60-a2eb-4d27-b5fa-3399f512fa81"
   },
   "outputs": [],
   "source": [
    "# 打印前五筆(發現性別欄位都轉為數值)\n",
    "rawdata.head()"
   ]
  },
  {
   "cell_type": "code",
   "execution_count": null,
   "metadata": {
    "colab": {
     "base_uri": "https://localhost:8080/"
    },
    "id": "JTNWs8DO-Pxi",
    "outputId": "573c86b8-6d73-4d5e-8af8-15c05eca4f2d"
   },
   "outputs": [],
   "source": [
    "# 查看欄位的缺值\n",
    "rawdata.isnull().any()"
   ]
  },
  {
   "cell_type": "code",
   "execution_count": null,
   "metadata": {
    "id": "JkorK0UFi3cu"
   },
   "outputs": [],
   "source": [
    "# 查看欄位的缺值數量\n",
    "rawdata.isnull().sum()"
   ]
  },
  {
   "cell_type": "code",
   "execution_count": null,
   "metadata": {
    "colab": {
     "base_uri": "https://localhost:8080/"
    },
    "id": "gOsCzu1iQRNO",
    "outputId": "fa5b59b4-52bf-496e-f71e-bc01690a5b4a"
   },
   "outputs": [],
   "source": [
    "# 返回皆沒缺值的資料(移除有任一缺值的每筆資料)\n",
    "nondata = rawdata.dropna()\n",
    "\n",
    "# 再次查看欄位的缺值\n",
    "nondata.isnull().any()"
   ]
  },
  {
   "cell_type": "markdown",
   "metadata": {
    "id": "oC-TSYJMG1k6"
   },
   "source": [
    "## **02. 特徵、標籤、特徵名稱與標籤名稱**\n",
    "### 提取欄位與資料\n",
    "* pandas 中的 [DataFrame.to_numpy](https://pandas.pydata.org/pandas-docs/stable/reference/api/pandas.DataFrame.to_numpy.html) 可以將DataFrame返回為陣列\n",
    "* pandas 中的 [DataFrame.columns](https://pandas.pydata.org/pandas-docs/stable/reference/api/pandas.DataFrame.columns.html) 可以返回欄位名稱\n",
    "* numpy中的 [numpy.delete()](https://numpy.org/doc/1.18/reference/generated/numpy.delete.html) 可以刪除陣列的行或列"
   ]
  },
  {
   "cell_type": "code",
   "execution_count": null,
   "metadata": {
    "colab": {
     "base_uri": "https://localhost:8080/"
    },
    "id": "veP506N-4m5j",
    "outputId": "16367c63-20fd-49f0-b855-c0cdd5274605"
   },
   "outputs": [],
   "source": [
    "# 提取資料欄位名稱\n",
    "datanames = nondata.columns\n",
    "\n",
    "# 打印資料欄位名稱\n",
    "print(\"資料欄位名稱\" ,datanames)\n",
    "\n",
    "# 資料轉為陣列\n",
    "data = nondata.to_numpy()\n",
    "\n",
    "# 打印資料維度\n",
    "print(\"資料維度：\", data.shape)"
   ]
  },
  {
   "cell_type": "code",
   "execution_count": null,
   "metadata": {
    "colab": {
     "base_uri": "https://localhost:8080/"
    },
    "id": "oDZiKKkoGE-D",
    "outputId": "4b73f392-cf11-484a-cee0-ce801c5507fe"
   },
   "outputs": [],
   "source": [
    "# 提取特徵名稱\n",
    "featurenames = datanames[0:4]\n",
    "print(\"特徵名稱\" ,featurenames)\n",
    "\n",
    "# 匯入numpy套件\n",
    "import numpy as np\n",
    "\n",
    "# 提取特徵值 (資料移除欄位索引4)\n",
    "feature = np.delete(data, 4, axis=1) \n",
    "\n",
    "# 提取標籤值 (資料提取欄位索引4)\n",
    "label = data[:,4]"
   ]
  },
  {
   "cell_type": "markdown",
   "metadata": {
    "id": "XlRA1numnAvp"
   },
   "source": [
    "## **03. 資料分割**\n",
    "### 資料分割為訓練集與測試集\n",
    "* sklearn中的 [train_test_split()](https://scikit-learn.org/stable/modules/generated/sklearn.model_selection.train_test_split.html) 可以將資料分割為指定大小的訓練集與測試集"
   ]
  },
  {
   "cell_type": "code",
   "execution_count": null,
   "metadata": {
    "colab": {
     "base_uri": "https://localhost:8080/"
    },
    "id": "upTFHaR2IHZy",
    "outputId": "fcfba78d-f033-427b-ce07-bc4f33e901d7"
   },
   "outputs": [],
   "source": [
    "# 匯入sklearn中的train_test_split套件\n",
    "from sklearn.model_selection import train_test_split \n",
    "\n",
    "# 資料分割為訓練與測試集\n",
    "train_x, test_x, train_y, test_y = train_test_split(feature, label, random_state = 0, test_size = 0.3)\n",
    "\n",
    "# 打印訓練集與測試集數量\n",
    "print(\"訓練集數量\", len(train_x))\n",
    "print(\"測試集數量\", len(test_x))"
   ]
  },
  {
   "cell_type": "markdown",
   "metadata": {
    "id": "Mw4kf_l-Lsjq"
   },
   "source": [
    "![](https://raw.githubusercontent.com/j82887/Computational-Intelligence-Laboratory/main/Image/1-1.png)\n",
    "\n",
    "## **04. 建立線性回歸模型 (Scikit-Learn)** [[連結]](https://scikit-learn.org/stable/modules/generated/sklearn.linear_model.LinearRegression.html?highlight=linearregression#sklearn.linear_model.LinearRegression)\n",
    "* 模型初始化 \n",
    "* sklearn使用model.fit(x,y)將數據帶入模型進行訓練，其中x, y為訓練集的輸入(特徵)與輸出(標籤)\n",
    "* sklearn使用model.predict() 將數據帶入模型進行預測，並返回預測值\n",
    "\n"
   ]
  },
  {
   "cell_type": "code",
   "execution_count": null,
   "metadata": {
    "id": "-LeJR3Nln_SO"
   },
   "outputs": [],
   "source": [
    "# 匯入sklearn中的LinearRegression套件\n",
    "from sklearn.linear_model import LinearRegression\n",
    "\n",
    "# 初始化模型\n",
    "LR = LinearRegression(fit_intercept=True)\n",
    "\n",
    "# 給予訓練集的特徵與標籤進行訓練\n",
    "LR.fit(train_x, train_y)\n",
    "\n",
    "# 訓練集帶入模型預測(批量)\n",
    "train_predict = LR.predict(train_x)\n",
    "\n",
    "# 測試集帶入模型預測(批量)\n",
    "test_predict = LR.predict(test_x)"
   ]
  },
  {
   "cell_type": "markdown",
   "metadata": {
    "id": "Wm_pwfT9qcO-"
   },
   "source": [
    "## **05. 驗證指標**\n",
    "### 回歸的驗證指標 \n",
    "* sklearn使用 model.coef_ 回傳模型的權重\n",
    "* sklearn使用 model.intercept_ 回傳模型的偏差\n",
    "* sklearn使用 [mean_squared_error()](https://scikit-learn.org/stable/modules/generated/sklearn.metrics.mean_squared_error.html?highlight=mean_squared_error#sklearn.metrics.mean_squared_error) 計算MSE指標\n",
    "* sklearn使用 [r2_score()](https://scikit-learn.org/stable/modules/generated/sklearn.metrics.r2_score.html?highlight=r2_score#sklearn.metrics.r2_score) 計算決定係數(Coefficient of determination)"
   ]
  },
  {
   "cell_type": "code",
   "execution_count": null,
   "metadata": {
    "id": "vn8ALqRhn83X"
   },
   "outputs": [],
   "source": [
    "# 打印模型權重值\n",
    "print(\"模型權重(係數):\", LR.coef_)\n",
    "\n",
    "# 打印模型偏差值\n",
    "print(\"模型偏差(截距):\", LR.intercept_)\n",
    "\n",
    "# 匯入sklearn中的驗證指標的套件\n",
    "from sklearn.metrics import mean_squared_error, r2_score\n",
    "\n",
    "# 打印訓練集均方誤差\n",
    "print('Train - Mean squared error: %.5f' % mean_squared_error(train_y, train_predict))\n",
    "\n",
    "# 打印訓練集決定係數\n",
    "print('Train - Coefficient of determination: %.5f' % r2_score(train_y, train_predict))\n",
    "\n",
    "# 打印測試集均方誤差\n",
    "print('Test - Mean squared error: %.5f' % mean_squared_error(test_y, test_predict))\n",
    "\n",
    "# 打印測試集決定係數\n",
    "print('Test - Coefficient of determination: %.5f' % r2_score(test_y, test_predict))"
   ]
  },
  {
   "cell_type": "markdown",
   "metadata": {
    "id": "DL8419-AXmTH"
   },
   "source": [
    "## **06 模型可解釋性：視覺化** \n",
    "### 特徵重要性"
   ]
  },
  {
   "cell_type": "code",
   "execution_count": null,
   "metadata": {
    "colab": {
     "base_uri": "https://localhost:8080/",
     "height": 549
    },
    "id": "4JuMNaAtkW8V",
    "outputId": "938f2be1-ea8a-47f1-a299-aead26625b46"
   },
   "outputs": [],
   "source": [
    "import matplotlib.pyplot as plt\n",
    "\n",
    "plt.figure(figsize=(3, 6))\n",
    "plt.title('Feature importance',size=18)\n",
    "plt.plot(LR.coef_,'o',markersize=12)  \n",
    "plt.xticks(range(len(featurenames)), featurenames , rotation=90, size=18 )\n",
    "plt.yticks(rotation=0,size=12)\n",
    "plt.ylim(-0.7, 0.7) \n",
    "plt.grid()\n",
    "plt.xlabel(\"Feature\",size=20)\n",
    "plt.ylabel(\"Coefficient magnitude\",size=20)\n",
    "plt.show()"
   ]
  },
  {
   "cell_type": "markdown",
   "metadata": {
    "id": "7XpupNfyY2fK"
   },
   "source": [
    "## **07. 儲存與讀取模型 (Scikit-Learn)**\n",
    "### 模型存取"
   ]
  },
  {
   "cell_type": "code",
   "execution_count": null,
   "metadata": {
    "colab": {
     "base_uri": "https://localhost:8080/"
    },
    "id": "mR4vchJLLpkh",
    "outputId": "3c0fb798-f343-4552-9c53-5720a316c5a3"
   },
   "outputs": [],
   "source": [
    "#from sklearn.externals import joblib \n",
    "import joblib\n",
    "\n",
    "#儲存Model\n",
    "joblib.dump(LR, 'Linear_Regression_BMI.pkl')\n",
    "\n",
    "#讀取Model\n",
    "LR = joblib.load('Linear_Regression_BMI.pkl')"
   ]
  },
  {
   "cell_type": "code",
   "execution_count": null,
   "metadata": {
    "id": "5FTaHJOTs0on"
   },
   "outputs": [],
   "source": [
    "#測試Model\n",
    "# 1英吋 = 0.0254  公尺, 75英吋 = 1.905 公尺\n",
    "# 1磅 = 0.45359237 公斤, 153磅 = 69.39963261 公斤\n",
    "\n",
    "test = np.array([[0, 40, 75, 153]])\n",
    "predict = LR.predict(test)\n",
    "print(\"預測BMI為：%.5f\" %(predict[0]))\n",
    "BMI = (test[0][3]*0.45359237)/((test[0][2]*0.0254)**2)\n",
    "print(\"實際BMI為：%.5f\" %(BMI))"
   ]
  },
  {
   "cell_type": "markdown",
   "metadata": {
    "id": "I9M_MStX6VsQ"
   },
   "source": [
    "![](https://raw.githubusercontent.com/j82887/Computational-Intelligence-Laboratory/main/Image/1-2.png)\n",
    "\n",
    "## **08. 建立線性回歸模型 (Pytorch)**\n",
    "### 建立模型"
   ]
  },
  {
   "cell_type": "code",
   "execution_count": null,
   "metadata": {
    "colab": {
     "base_uri": "https://localhost:8080/"
    },
    "id": "z929uLRtvNxb",
    "outputId": "12b842ed-66b7-4888-b6ee-82713c5203b0"
   },
   "outputs": [],
   "source": [
    "import torch\n",
    "import torch.nn as nn\n",
    "\n",
    "# 初始化模型\n",
    "model = nn.Linear(4, 1)\n",
    "\n",
    "# 打印模型初始權重與偏差值\n",
    "print(model.weight)\n",
    "print(model.bias)"
   ]
  },
  {
   "cell_type": "markdown",
   "metadata": {
    "id": "xooMrhG36mBJ"
   },
   "source": [
    "### 標籤更正維度"
   ]
  },
  {
   "cell_type": "code",
   "execution_count": null,
   "metadata": {
    "id": "2V_z_e8F2aOC"
   },
   "outputs": [],
   "source": [
    "# 更正訓練集標籤維度，並更正陣列型別\n",
    "train_y = np.reshape(train_y, (len(train_y), 1)).astype(float)\n",
    "\n",
    "# 更正測試集標籤維度，並更正陣列型別\n",
    "test_y = np.reshape(test_y, (len(test_y), 1)).astype(float)\n",
    "\n",
    "# 更正訓練集輸入特徵的陣列型別\n",
    "train_x = train_x.astype(float)\n",
    "\n",
    "# 更正測試集輸入特徵的陣列型別\n",
    "test_x = test_x.astype(float)"
   ]
  },
  {
   "cell_type": "markdown",
   "metadata": {
    "id": "GbbqgUj36r7x"
   },
   "source": [
    "### 轉換為Pyorch的張量型別"
   ]
  },
  {
   "cell_type": "code",
   "execution_count": null,
   "metadata": {
    "id": "KMsGVMhbf3YP"
   },
   "outputs": [],
   "source": [
    "# 訓練集的輸入特徵轉換為torch張量型別\n",
    "tensor_train_x = torch.tensor(train_x, dtype=torch.float32)\n",
    "\n",
    "# 訓練集的標籤轉換為torch張量型別\n",
    "tensor_train_y = torch.tensor(train_y, dtype=torch.float32)\n",
    "\n",
    "# 測試集的輸入特徵轉換為torch張量型別\n",
    "tensor_test_x = torch.tensor(test_x, dtype=torch.float32)\n",
    "\n",
    "# 測試集的標籤轉換為torch張量型別\n",
    "tensor_test_y = torch.tensor(test_y, dtype=torch.float32)"
   ]
  },
  {
   "cell_type": "markdown",
   "metadata": {
    "id": "xB6g6qOJ67-_"
   },
   "source": [
    "### 訓練線性回歸模型"
   ]
  },
  {
   "cell_type": "code",
   "execution_count": null,
   "metadata": {
    "id": "AHQj1rhY8auA"
   },
   "outputs": [],
   "source": [
    "# 定義優化器\n",
    "optimizer = torch.optim.SGD(model.parameters(), lr=0.00001)\n",
    "\n",
    "# 定義損失函數\n",
    "MSE = nn.MSELoss()\n",
    "\n",
    "# 設置迭代次數\n",
    "num_epochs = 10000\n",
    "\n",
    "# 建立一空列表存放損失值\n",
    "loss_history = []\n",
    "\n",
    "# for迴圈來迭代更新權重值進行模型訓練\n",
    "for epoch in range(num_epochs):\n",
    "\n",
    "  # 輸入特徵代入模型，返回預測值\n",
    "  outputs = model(tensor_train_x)\n",
    "\n",
    "  # 預測值與標籤計算MSE損失值\n",
    "  loss = MSE(outputs, tensor_train_y)\n",
    "\n",
    "  # 儲存損失值\n",
    "  loss_history.append(loss.item())\n",
    "\n",
    "  # 梯度歸零\n",
    "  optimizer.zero_grad()\n",
    "\n",
    "  # 反向傳播\n",
    "  loss.backward()\n",
    "\n",
    "  # 更新所有的權重\n",
    "  optimizer.step()"
   ]
  },
  {
   "cell_type": "code",
   "execution_count": null,
   "metadata": {
    "colab": {
     "base_uri": "https://localhost:8080/"
    },
    "id": "aWs6uZlXTEbx",
    "outputId": "d39ad269-8924-4725-cac3-a299909592ed"
   },
   "outputs": [],
   "source": [
    "# 打印模型權重值\n",
    "print(model.weight)\n",
    "\n",
    "# 打印模型偏差值\n",
    "print(model.bias)"
   ]
  },
  {
   "cell_type": "markdown",
   "metadata": {
    "id": "2hKEtHXIt1Du"
   },
   "source": [
    "### 特徵重要性"
   ]
  },
  {
   "cell_type": "code",
   "execution_count": null,
   "metadata": {
    "colab": {
     "base_uri": "https://localhost:8080/",
     "height": 549
    },
    "id": "7KFBLCYWSe_z",
    "outputId": "ba597ac6-93f6-46e0-83f4-9b54550acb88"
   },
   "outputs": [],
   "source": [
    "plt.figure(figsize=(3, 6))\n",
    "plt.title('Feature importance',size=18)\n",
    "plt.plot(model.weight.detach().numpy()[0],'o',markersize=12)  \n",
    "plt.xticks(range(len(featurenames)), featurenames , rotation=90, size=18 )\n",
    "plt.yticks(rotation=0,size=12)\n",
    "plt.ylim(-0.6, 0.6) \n",
    "plt.grid()\n",
    "plt.xlabel(\"Feature\",size=20)\n",
    "plt.ylabel(\"Coefficient magnitude\",size=20)\n",
    "plt.show()"
   ]
  },
  {
   "cell_type": "markdown",
   "metadata": {
    "id": "hSd7FJVh-A1p"
   },
   "source": [
    "## **09. 驗證指標 (Pytorch)**"
   ]
  },
  {
   "cell_type": "code",
   "execution_count": null,
   "metadata": {
    "colab": {
     "base_uri": "https://localhost:8080/",
     "height": 267
    },
    "id": "9UxJJaTYkmDV",
    "outputId": "2894b2d8-a2cb-4afa-e3d4-edd574927141"
   },
   "outputs": [],
   "source": [
    "# 繪製學習曲線圖\n",
    "plt.plot(range(len(loss_history)),loss_history)\n",
    "\n",
    "# 顯示圖像\n",
    "plt.show()"
   ]
  },
  {
   "cell_type": "code",
   "execution_count": null,
   "metadata": {
    "colab": {
     "base_uri": "https://localhost:8080/"
    },
    "id": "8VqVgdYFLfZs",
    "outputId": "4407c4fd-a205-4274-a4ea-6d7d4f5021d0"
   },
   "outputs": [],
   "source": [
    "# 批量預測\n",
    "outputs = model(tensor_test_x)\n",
    "\n",
    "# 計算均方誤差\n",
    "loss = MSE(outputs, tensor_test_y)\n",
    "print('Mean squared error: %.5f' % loss.item())"
   ]
  },
  {
   "cell_type": "code",
   "execution_count": null,
   "metadata": {
    "colab": {
     "base_uri": "https://localhost:8080/"
    },
    "id": "XGjZ-PTvMFQb",
    "outputId": "1db3db69-fad4-4ae0-ffd2-1927518e96ec"
   },
   "outputs": [],
   "source": [
    "# 打印均方誤差與決定係數\n",
    "print('Mean squared error: %.5f' % mean_squared_error(test_y, outputs.detach().numpy()))\n",
    "print('Coefficient of determination: %.5f' % r2_score(test_y, outputs.detach().numpy()))"
   ]
  },
  {
   "cell_type": "markdown",
   "metadata": {
    "id": "OCnXfvgd-t_o"
   },
   "source": [
    "## **10. 儲存與讀取模型 (Pytorch)**\n",
    "### A. 模型存取"
   ]
  },
  {
   "cell_type": "code",
   "execution_count": null,
   "metadata": {
    "id": "Nn8nIHnJgcV4"
   },
   "outputs": [],
   "source": [
    "torch.save(model, 'Linear_Regression_BMI.pth')\n",
    "model = torch.load('Linear_Regression_BMI.pth')"
   ]
  },
  {
   "cell_type": "markdown",
   "metadata": {
    "id": "0YVbJyZ5-_tg"
   },
   "source": [
    "### B. 新資料單筆測試"
   ]
  },
  {
   "cell_type": "code",
   "execution_count": null,
   "metadata": {
    "colab": {
     "base_uri": "https://localhost:8080/"
    },
    "id": "hGN8E9gO4ZTh",
    "outputId": "538e71c9-2e17-4921-eb2e-173a549da9ba"
   },
   "outputs": [],
   "source": [
    "input = torch.tensor([[0, 40, 75, 153]], dtype=torch.float32)\n",
    "predicted_output = model(input)\n",
    "print(predicted_output)"
   ]
  },
  {
   "cell_type": "markdown",
   "metadata": {
    "id": "0nBbGLNBEWAz"
   },
   "source": [
    "![](https://raw.githubusercontent.com/j82887/Computational-Intelligence-Laboratory/main/Image/1-3.png)\n",
    "## **11. 建立線性回歸模型 (Keras)**\n",
    "### A. 建立模型"
   ]
  },
  {
   "cell_type": "code",
   "execution_count": null,
   "metadata": {
    "colab": {
     "base_uri": "https://localhost:8080/"
    },
    "id": "YRF21ouMEq3z",
    "outputId": "6589e690-a72a-4d81-9a38-3d8943c98bf4"
   },
   "outputs": [],
   "source": [
    "from tensorflow.keras.models import Sequential\n",
    "from tensorflow.keras.layers import Dense\n",
    "import tensorflow as tf\n",
    "\n",
    "model = Sequential()\n",
    "model.add(Dense(1, input_shape=(4,)))\n",
    "model.summary()"
   ]
  },
  {
   "cell_type": "markdown",
   "metadata": {
    "id": "zNOM-ged_ftn"
   },
   "source": [
    "### B. 編譯方式"
   ]
  },
  {
   "cell_type": "code",
   "execution_count": null,
   "metadata": {
    "id": "GDxnktl_Fip8"
   },
   "outputs": [],
   "source": [
    "model.compile(loss='mean_squared_error', optimizer=tf.keras.optimizers.SGD(learning_rate=0.00001, clipnorm=1.0))"
   ]
  },
  {
   "cell_type": "markdown",
   "metadata": {
    "id": "sUpa-N_z_jyT"
   },
   "source": [
    "### C. 模型訓練"
   ]
  },
  {
   "cell_type": "code",
   "execution_count": null,
   "metadata": {
    "colab": {
     "base_uri": "https://localhost:8080/"
    },
    "id": "KewT5i4nGZZT",
    "outputId": "c3d62fe8-41f6-40e8-b71f-33d661d86374"
   },
   "outputs": [],
   "source": [
    "history = model.fit(x=train_x, y=train_y, batch_size=20, epochs=1000, validation_data=(test_x, test_y))"
   ]
  },
  {
   "cell_type": "markdown",
   "metadata": {
    "id": "chBafSaVDn6P"
   },
   "source": [
    "## **12. 驗證指標 (Keras)**"
   ]
  },
  {
   "cell_type": "code",
   "execution_count": null,
   "metadata": {
    "colab": {
     "base_uri": "https://localhost:8080/"
    },
    "id": "hqZQoHcr7FGc",
    "outputId": "453d112c-2e21-4715-aac0-6598fe395391"
   },
   "outputs": [],
   "source": [
    "# 提取第一層權重與偏差值\n",
    "weights = model.layers[0].get_weights()[0]\n",
    "bias= model.layers[0].get_weights()[1]\n",
    "\n",
    "# 打印第一層權重與偏差值\n",
    "print(\"weights:\", weights)\n",
    "print(\"bias:\", bias)"
   ]
  },
  {
   "cell_type": "code",
   "execution_count": null,
   "metadata": {
    "colab": {
     "base_uri": "https://localhost:8080/",
     "height": 549
    },
    "id": "Gog3kEsN7oVC",
    "outputId": "66af2413-dfee-4650-a4b5-9aa338bad80d"
   },
   "outputs": [],
   "source": [
    "plt.figure(figsize=(3, 6))\n",
    "plt.title('Feature importance',size=18)\n",
    "plt.plot(weights,'o',markersize=12)  \n",
    "plt.xticks(range(len(featurenames)), featurenames , rotation=90, size=18 )\n",
    "plt.yticks(rotation=0,size=12)\n",
    "plt.grid()\n",
    "plt.xlabel(\"Feature\",size=20)\n",
    "plt.ylabel(\"Coefficient magnitude\",size=20)\n",
    "plt.show()"
   ]
  },
  {
   "cell_type": "code",
   "execution_count": null,
   "metadata": {
    "colab": {
     "base_uri": "https://localhost:8080/",
     "height": 281
    },
    "id": "I5BoBtVc55VK",
    "outputId": "2a5f2319-e6e8-4310-e20b-fb8c6e03b169"
   },
   "outputs": [],
   "source": [
    "# 提取訓練集在訓練過程中的損失值\n",
    "loss = history.history['loss']\n",
    "\n",
    "# 提取驗證集在訓練過程中的損失值\n",
    "val_loss = history.history['val_loss']\n",
    "\n",
    "\n",
    "\n",
    "# 繪製圖的標題\n",
    "plt.title(\"Training & Validation Loss\")\n",
    "\n",
    "# 繪製學習訓練集損失曲線圖\n",
    "plt.plot(np.arange(len(loss)), loss,color='b', label=\"Training set\")\n",
    "\n",
    "# 繪製學習驗證集損失曲線圖\n",
    "plt.plot(np.arange(len(val_loss)), val_loss,color='r', label=\"Validation set\")\n",
    "\n",
    "# 說明欄放置於右上角\n",
    "plt.legend(loc='upper right')\n",
    "\n",
    "# 顯示圖像\n",
    "plt.show()"
   ]
  },
  {
   "cell_type": "code",
   "execution_count": null,
   "metadata": {
    "colab": {
     "base_uri": "https://localhost:8080/"
    },
    "id": "pLgVAAmg8CCJ",
    "outputId": "30230e2f-dc29-4052-d3ed-4a63bda4cfea"
   },
   "outputs": [],
   "source": [
    "# 批量預測\n",
    "outputs = model.predict(test_x)\n",
    "\n",
    "# 打印均方誤差與決定係數\n",
    "print('Mean squared error: %.5f' % mean_squared_error(test_y, outputs))\n",
    "print('Coefficient of determination: %.5f' % r2_score(test_y, outputs))"
   ]
  },
  {
   "cell_type": "markdown",
   "metadata": {
    "id": "Jgj0LkuoENno"
   },
   "source": [
    "## **13. 儲存與讀取模型 (Keras)**\n",
    "### A. 模型存取"
   ]
  },
  {
   "cell_type": "code",
   "execution_count": null,
   "metadata": {
    "id": "3GHQ4stj4_da"
   },
   "outputs": [],
   "source": [
    "model.save('Linear_Regression_BMI.h5')\n",
    "\n",
    "#載入模型\n",
    "from tensorflow.keras.models import load_model\n",
    "model = load_model('Linear_Regression_BMI.h5')"
   ]
  },
  {
   "cell_type": "markdown",
   "metadata": {
    "id": "Ms0fAeTUGwGb"
   },
   "source": [
    "### B. 新資料單筆測試"
   ]
  },
  {
   "cell_type": "code",
   "execution_count": null,
   "metadata": {
    "colab": {
     "base_uri": "https://localhost:8080/"
    },
    "id": "EaG_mAG98sMB",
    "outputId": "b82ca71f-4b72-48eb-d981-c5687c96054f"
   },
   "outputs": [],
   "source": [
    "input = np.array([[0, 40, 75, 153]])\n",
    "predicted_output = model.predict(input)\n",
    "print(predicted_output)"
   ]
  }
 ],
 "metadata": {
  "colab": {
   "collapsed_sections": [],
   "name": "02_Linear Regression.ipynb",
   "provenance": []
  },
  "kernelspec": {
   "display_name": "Python 3",
   "language": "python",
   "name": "python3"
  },
  "language_info": {
   "codemirror_mode": {
    "name": "ipython",
    "version": 3
   },
   "file_extension": ".py",
   "mimetype": "text/x-python",
   "name": "python",
   "nbconvert_exporter": "python",
   "pygments_lexer": "ipython3",
   "version": "3.6.10"
  }
 },
 "nbformat": 4,
 "nbformat_minor": 1
}
