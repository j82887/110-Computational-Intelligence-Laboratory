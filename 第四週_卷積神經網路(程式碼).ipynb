{
 "cells": [
  {
   "cell_type": "markdown",
   "metadata": {
    "id": "TFzlAFCJMViC"
   },
   "source": [
    "# **數字手寫影像資料集 Keras Mnist Dataset**"
   ]
  },
  {
   "cell_type": "markdown",
   "metadata": {
    "id": "9i-P4I-TMwCn"
   },
   "source": [
    "\n",
    "* 資料集來自Keras中數字手寫資料集\n",
    "* 輸入特徵維度大小是28×28\n",
    "* 訓練集60000張，測試集10000張\n",
    "\n"
   ]
  },
  {
   "cell_type": "markdown",
   "metadata": {
    "id": "4kWXyYZeMm82"
   },
   "source": [
    "# **02. 讀取資料**\n",
    "* Keras中的數字手寫資料集 [mnist.load_data()](https://www.tensorflow.org/api_docs/python/tf/keras/datasets/mnist/load_data)，回傳訓練與測試集的影像與標籤\n",
    "* Collections中的Counter，可以計算每一元素的數量\n"
   ]
  },
  {
   "cell_type": "code",
   "execution_count": null,
   "metadata": {
    "id": "-MV367nOxiGa"
   },
   "outputs": [],
   "source": [
    "from tensorflow.keras.datasets import mnist\n",
    "from collections import Counter \n",
    "\n",
    "(x_train_image, y_train_label),(x_test_image, y_test_label) = mnist.load_data() \n",
    "\n",
    "print(\"訓練集的類別數量:%s\" %Counter(y_train_label))\n",
    "print(\"測試集的類別數量:%s\" %Counter(y_test_label))\n",
    "print(\"訓練集的維度:\",x_train_image.shape)\n",
    "print(\"測試集的維度:\",x_test_image.shape)"
   ]
  },
  {
   "cell_type": "markdown",
   "metadata": {
    "id": "S1Z0egKhMHtk"
   },
   "source": [
    "# **03. 繪製影像**\n",
    "## A. 繪製多張影像\n",
    "* Matplotlib中的 `subplot(y, x, n)` [[連結]](https://matplotlib.org/3.5.1/api/_as_gen/matplotlib.pyplot.subplot.html)，可以放置子影像y為列數、x為行數與第n個子影像\n",
    "* Matplotlib中的 `set_title(str)` [[連結]](https://matplotlib.org/3.1.1/api/_as_gen/matplotlib.axes.Axes.set_title.html)，可以放置子影像的標題\n",
    "* Matplotlib繪製與儲存影像時，預設為RGB彩色通道，若要以灰階方式繪製與儲存時，可以給予`cmap=\"gray\"`或`plt.cm.gray`"
   ]
  },
  {
   "cell_type": "code",
   "execution_count": null,
   "metadata": {
    "id": "1C1LiQKnI3YT"
   },
   "outputs": [],
   "source": [
    "import matplotlib.pyplot as plt\n",
    "\n",
    "# 設置影像大小\n",
    "plt.figure(figsize=(15, 10))\n",
    "\n",
    "# for迴圈放置子影像\n",
    "for i in range(15):\n",
    "  # 設置子影像的行列數與第n個子影像\n",
    "  ax = plt.subplot(3,5, 1+i)\n",
    "  # 給予顯示子影像，並灰階顯示\n",
    "  ax.imshow(x_train_image[i], cmap=\"gray\")\n",
    "  # 給予子影像的標題 \n",
    "  ax.set_title(\"Label: %s\" %(y_train_label[i]), size=20)\n",
    "  # 儲存影像\n",
    "  plt.imsave(str(y_train_label[i])+\".png\",x_train_image[i], cmap = plt.cm.gray)\n",
    "# 顯示影像\n",
    "plt.show()"
   ]
  },
  {
   "cell_type": "markdown",
   "metadata": {
    "id": "xivTd9tsHI7m"
   },
   "source": [
    "# **資料前處理**\n",
    "## A. 獨熱編碼\n",
    "* keras中的 `to_categorical(label)` [[連結]](https://www.tensorflow.org/api_docs/python/tf/keras/utils/to_categorical)，將`label`作獨熱編碼（One-hot Encoding）"
   ]
  },
  {
   "cell_type": "code",
   "execution_count": null,
   "metadata": {
    "id": "Uu_Nc0ewLp0C"
   },
   "outputs": [],
   "source": [
    "from tensorflow.keras.utils import to_categorical\n",
    "import numpy as np\n",
    "\n",
    "# 將排序型編碼的標籤另存變數，於後算混淆矩陣時會使用到\n",
    "sort_train_label = y_train_label\n",
    "sort_test_label = y_test_label\n",
    "\n",
    "# 將排序型編碼轉為獨熱編碼\n",
    "y_train_label = to_categorical(y_train_label)\n",
    "y_test_label = to_categorical(y_test_label)"
   ]
  },
  {
   "cell_type": "markdown",
   "metadata": {
    "id": "gTt_KnYyL1nN"
   },
   "source": [
    "## B. 正規化\n"
   ]
  },
  {
   "cell_type": "code",
   "execution_count": null,
   "metadata": {
    "id": "ocS5JkadClXz"
   },
   "outputs": [],
   "source": [
    "# 正規化與轉換型別\n",
    "x_train_image = x_train_image.astype('float32')/255\n",
    "x_test_image = x_test_image.astype('float32')/255"
   ]
  },
  {
   "cell_type": "markdown",
   "metadata": {
    "id": "FD61-spNL9Bf"
   },
   "source": [
    "## C. 改變維度\n",
    "* Numpy中的 `expand_dims(array, axis=num)` [[連結]](https://numpy.org/doc/stable/reference/generated/numpy.expand_dims.html)，可將陣列array在選擇的軸維度中增加⼀維度"
   ]
  },
  {
   "cell_type": "code",
   "execution_count": null,
   "metadata": {
    "id": "Jx1Nd4gCMCPo"
   },
   "outputs": [],
   "source": [
    "# 打印維度\n",
    "print(\"轉換前的維度:\", x_train_image.shape)\n",
    "\n",
    "# 增加維度\n",
    "x_train_image = np.expand_dims(x_train_image,-1)\n",
    "x_test_image = np.expand_dims(x_test_image,-1)\n",
    "\n",
    "# 打印維度\n",
    "print(\"轉換後的維度:\", x_train_image.shape)"
   ]
  },
  {
   "cell_type": "markdown",
   "metadata": {
    "id": "7ikEsaTeK6_t"
   },
   "source": [
    "# **05. 模型建立**\n",
    "## A. 建立模型"
   ]
  },
  {
   "cell_type": "code",
   "execution_count": null,
   "metadata": {
    "id": "9m-6H3_fyGQa"
   },
   "outputs": [],
   "source": [
    "from tensorflow.keras.models import Sequential\n",
    "from tensorflow.keras.layers import Dense, Conv2D, MaxPooling2D, Flatten, Dropout\n",
    "\n",
    "# 建立順序型模型\n",
    "cnn = Sequential()\n",
    "\n",
    "# 增加卷積層，並設置濾波器數量及大小、激勵函數、零填充\n",
    "cnn.add(Conv2D(32,(4,4),activation='relu', padding='same', input_shape=(28,28,1)))\n",
    "# 增加捨棄層\n",
    "cnn.add(Dropout(0.2))\n",
    "# 增加最大池化層\n",
    "cnn.add(MaxPooling2D((2,2)))\n",
    "\n",
    "cnn.add(Conv2D(64,(3,3),activation='relu', padding='same'))\n",
    "cnn.add(Dropout(0.2))\n",
    "\n",
    "cnn.add(Conv2D(128,(2,2),activation='relu', padding='same'))\n",
    "cnn.add(Dropout(0.2))\n",
    "\n",
    "# 拉成一維度\n",
    "cnn.add(Flatten())\n",
    "# 增加全連接層\n",
    "cnn.add(Dense(128, activation='relu'))\n",
    "cnn.add(Dense(10, activation='softmax'))\n",
    "\n",
    "cnn.summary()"
   ]
  },
  {
   "cell_type": "markdown",
   "metadata": {
    "id": "-vL3JIk_K2O_"
   },
   "source": [
    "## B. 編譯方式\n",
    "* Keras中compile之損失，我們選擇 `categorical_crossentropy` [[連結]](https://www.tensorflow.org/api_docs/python/tf/keras/metrics/categorical_crossentropy)\n",
    "* Keras中compile之最佳化梯度下降法，我們選擇 `Adam` [[連結]](https://www.tensorflow.org/api_docs/python/tf/keras/optimizers/Adam)\n",
    "* Keras中compile之Metrics，可以自定義評價函數，給予字串名稱"
   ]
  },
  {
   "cell_type": "code",
   "execution_count": null,
   "metadata": {
    "id": "tXaY1EgqyrRc"
   },
   "outputs": [],
   "source": [
    "cnn.compile(loss='categorical_crossentropy', optimizer='adam', metrics=['acc'])"
   ]
  },
  {
   "cell_type": "markdown",
   "metadata": {
    "id": "qM0vG02vKyiV"
   },
   "source": [
    "## C. 訓練模型\n",
    "* Keras中的 `history = model.fit(x, y, batch_size, epochs, validation_data, validation_split, verbose)`[[連結]](https://www.tensorflow.org/api_docs/python/tf/keras/Model)\n",
    "  * x, y為訓練集的輸入特徵與標籤\n",
    "  * batch_size為批量數量，為多少資料計算一次損失值\n",
    "  * epochs為迭代次數\n",
    "  * validation_data可將驗證集在訓練過程中，記錄每次的迭代驗證指標值，此資料並不會參與訓練過程，預設為None，若以設validation_split則無法使用此參數\n",
    "  * validation_split可將訓練集分割一部分作為驗證集，來記錄每次的迭代驗證指標值，預設為0.0，若以設validation_data則無法使用此參數\n",
    "  * verbose為訓練的詳細程度，預設為1。靜音為0，進度條為1，詳細模式為2\n",
    "  * history為訓練過程中回返的詳細數值，若不清楚記錄的變數為何，可以打印`history.history.keys()`查看key\n",
    "\n",
    "* 補充：如果嫌繪製圖表麻煩，可以使用TensorBoard來快速紀錄訓練過程。\n",
    "  * `from tensorflow.keras.callbacks import TensorBoard`\n",
    "  * `tensorboard = TensorBoard(log_dir=\"my_log\")`\n",
    "  * `history = model.fit(..., callbacks=[tensorboard])`\n",
    "  * 命令提示字元用 `cd` 指令至程式碼的位置，並輸入`tensorboard --logdir=my_log`，會跳出一網址連結，輸入至瀏覽器即可開啟TensorBoard\n",
    "\n",
    "\n"
   ]
  },
  {
   "cell_type": "code",
   "execution_count": null,
   "metadata": {
    "id": "WFQYrY33yuTx"
   },
   "outputs": [],
   "source": [
    "history = cnn.fit(x=x_train_image, y=y_train_label, batch_size=200, epochs=10, validation_data=(x_test_image, y_test_label), verbose=1)"
   ]
  },
  {
   "cell_type": "markdown",
   "metadata": {
    "id": "Ndlnqj8pKQCg"
   },
   "source": [
    "# **06. 驗證指標**\n",
    "## A. 繪製學習曲線：損失函數"
   ]
  },
  {
   "cell_type": "code",
   "execution_count": null,
   "metadata": {
    "id": "aMIVYprs1e3q"
   },
   "outputs": [],
   "source": [
    "acc = history.history['acc']\n",
    "test_acc = history.history['val_acc']\n",
    "loss = history.history['loss']\n",
    "test_loss = history.history['val_loss']\n",
    "\n",
    "plt.rcParams[\"font.family\"] = \"serif\"\n",
    "plt.title(\"Training & Test\", fontsize=20)\n",
    "plt.xlabel(\"Iteration\", fontsize=18)\n",
    "plt.ylabel(\"Accuracy\", fontsize=18)\n",
    "plt.plot(np.arange(len(acc)), acc,color='b', label=\"Training set\", marker='o', markersize=5)\n",
    "plt.plot(np.arange(len(test_acc)), test_acc,color='r', label=\"Test set\", marker='o', markersize=5)\n",
    "plt.xticks(np.linspace(0,9,10),fontsize=14)\n",
    "plt.yticks(fontsize=14)\n",
    "plt.legend(loc='lower right',fontsize=14)\n",
    "plt.show()\n",
    "\n",
    "plt.title(\"Training & Test\", fontsize=20)\n",
    "plt.xlabel(\"Iteration\", fontsize=18)\n",
    "plt.ylabel(\"Loss\", fontsize=18)\n",
    "plt.plot(np.arange(len(loss)), loss,color='b', label=\"Training set\", marker='o', markersize=5)\n",
    "plt.plot(np.arange(len(test_loss)), test_loss,color='r', label=\"Test set\", marker='o', markersize=5)\n",
    "plt.xticks(np.linspace(0,9,10),fontsize=14)\n",
    "plt.yticks(fontsize=14)\n",
    "plt.legend(loc='upper right',fontsize=14)\n",
    "plt.show()"
   ]
  },
  {
   "cell_type": "markdown",
   "metadata": {
    "id": "5XPo7G4oUPd7"
   },
   "source": [
    "## B. 損失值與準確度\n",
    "* Keras中的model.evaluate [[連結]](https://www.tensorflow.org/api_docs/python/tf/keras/Model#evaluate)，可以進行批量的計算損失與準確度"
   ]
  },
  {
   "cell_type": "code",
   "execution_count": null,
   "metadata": {
    "id": "GQpHb6A31j0I"
   },
   "outputs": [],
   "source": [
    "train_loss, train_acc = cnn.evaluate(x_train_image, y_train_label)\n",
    "print(\"訓練集的準確度為：%0.4f\" %(train_acc))\n",
    "print(\"訓練集的損失值為：%0.4f\" %(train_loss))\n",
    "\n",
    "test_loss, test_acc = cnn.evaluate(x_test_image, y_test_label)\n",
    "print(\"測試集的準確度為：%0.4f\" %(test_acc))\n",
    "print(\"測試集的損失值為：%0.4f\" %(test_loss))"
   ]
  },
  {
   "cell_type": "markdown",
   "metadata": {
    "id": "qvr_4wZNIp6z"
   },
   "source": [
    "\n",
    "## C. 訓練集的混淆矩陣"
   ]
  },
  {
   "cell_type": "code",
   "execution_count": null,
   "metadata": {
    "id": "D9eSwJsIeNgJ"
   },
   "outputs": [],
   "source": [
    "from sklearn.metrics import confusion_matrix, accuracy_score\n",
    "import seaborn as sns\n",
    "\n",
    "predict = cnn.predict(x_train_image)\n",
    "predictions = [np.argmax(one_hot)for one_hot in predict]\n",
    "\n",
    "cm = confusion_matrix(sort_train_label, predictions)\n",
    "plt.figure(figsize=(10,10))\n",
    "plt.title('Training set - Accuracy: %0.4f' %(train_acc), size = 20)\n",
    "sns.heatmap(cm, annot=True, fmt=\".0f\", linewidths=1.0, square = True, cmap = 'Blues',annot_kws={\"size\": 16})\n",
    "plt.ylabel('Actual label', size = 18)\n",
    "plt.xlabel('Predicted label', size = 18)\n",
    "plt.xticks(fontsize=16)\n",
    "plt.yticks(fontsize=16)\n",
    "plt.show()"
   ]
  },
  {
   "cell_type": "markdown",
   "metadata": {
    "id": "seJrb2UVJEOQ"
   },
   "source": [
    "## D. 測試集的混淆矩陣"
   ]
  },
  {
   "cell_type": "code",
   "execution_count": null,
   "metadata": {
    "id": "ydAD4_elI1tW"
   },
   "outputs": [],
   "source": [
    "predict = cnn.predict(x_test_image)\n",
    "predictions = [np.argmax(one_hot)for one_hot in predict]\n",
    "\n",
    "cm = confusion_matrix(sort_test_label, predictions)\n",
    "plt.figure(figsize=(10,10))\n",
    "plt.title('Test set - Accuracy: %0.4f' %(test_acc), size = 20)\n",
    "sns.heatmap(cm, annot=True, fmt=\".0f\", linewidths=1.0, square = True, cmap = 'Oranges',annot_kws={\"size\": 16})\n",
    "plt.ylabel('Actual label', size = 18)\n",
    "plt.xlabel('Predicted label', size = 18)\n",
    "plt.xticks(fontsize=16)\n",
    "plt.yticks(fontsize=16)\n",
    "plt.show()"
   ]
  },
  {
   "cell_type": "markdown",
   "metadata": {
    "id": "LMUrp337JX20"
   },
   "source": [
    "# **07. 儲存與讀取模型**\n",
    "## A. 模型存取"
   ]
  },
  {
   "cell_type": "code",
   "execution_count": null,
   "metadata": {
    "id": "5YJVZrjx3Q0_"
   },
   "outputs": [],
   "source": [
    "cnn.save('cnn_mnist.h5')\n",
    "\n",
    "from tensorflow.keras.models import load_model\n",
    "cnn = load_model('cnn_mnist.h5')"
   ]
  },
  {
   "cell_type": "markdown",
   "metadata": {
    "id": "ftqbAJSXJiA6"
   },
   "source": [
    "# B. 單筆影像測試"
   ]
  },
  {
   "cell_type": "code",
   "execution_count": null,
   "metadata": {
    "id": "o67fTNjBYopi"
   },
   "outputs": [],
   "source": [
    "import cv2\n",
    "img = cv2.imread(\"9.png\")\n",
    "gray_img = cv2.cvtColor(img, cv2.COLOR_BGR2GRAY)\n",
    "\n",
    "plt.imshow(gray_img, cmap=\"gray\")\n",
    "plt.show()\n",
    "\n",
    "resize_img = np.resize(gray_img, (28, 28))\n",
    "test_image = resize_img.astype('float32')/255\n",
    "test_image = np.expand_dims(test_image,-1)\n",
    "test_image = np.expand_dims(test_image,0)\n",
    "print(test_image.shape)\n",
    "\n",
    "predict = cnn.predict(test_image)\n",
    "print(predict)\n",
    "predictions = [np.argmax(one_hot)for one_hot in predict]\n",
    "print(predictions)"
   ]
  }
 ],
 "metadata": {
  "accelerator": "GPU",
  "colab": {
   "collapsed_sections": [],
   "name": "02_CNN-Training-Mnist.ipynb",
   "provenance": []
  },
  "kernelspec": {
   "display_name": "Python 3",
   "language": "python",
   "name": "python3"
  },
  "language_info": {
   "codemirror_mode": {
    "name": "ipython",
    "version": 3
   },
   "file_extension": ".py",
   "mimetype": "text/x-python",
   "name": "python",
   "nbconvert_exporter": "python",
   "pygments_lexer": "ipython3",
   "version": "3.6.10"
  }
 },
 "nbformat": 4,
 "nbformat_minor": 1
}
