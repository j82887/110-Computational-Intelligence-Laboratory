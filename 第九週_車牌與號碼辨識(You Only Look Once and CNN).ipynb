{
 "cells": [
  {
   "cell_type": "code",
   "execution_count": null,
   "metadata": {},
   "outputs": [],
   "source": [
    "import cv2\n",
    "import matplotlib.pyplot as plt\n",
    "import numpy as np"
   ]
  },
  {
   "cell_type": "code",
   "execution_count": null,
   "metadata": {},
   "outputs": [],
   "source": [
    "net = cv2.dnn.readNet(\"yolov4-tiny_final.weights\", \"yolov4-tiny.cfg\")\n",
    "layer_names = net.getLayerNames()\n",
    "output_layers = [layer_names[i-1] for i in net.getUnconnectedOutLayers()]"
   ]
  },
  {
   "cell_type": "code",
   "execution_count": null,
   "metadata": {},
   "outputs": [],
   "source": [
    "def yolo_detect(img):\n",
    "    height, width, channels = img.shape\n",
    "    blob = cv2.dnn.blobFromImage(img, 1/255.0, (416, 416), (0, 0, 0), True, crop=False)\n",
    "    net.setInput(blob)\n",
    "    outs = net.forward(output_layers)\n",
    "    \n",
    "    boxes = []\n",
    "    confidences = []\n",
    "    class_ids = []\n",
    "    \n",
    "    for out in outs:\n",
    "        for detection in out:\n",
    "            tx, ty, tw, th, confidence = detection[0:5]\n",
    "            scores = detection[5:]\n",
    "            class_id = np.argmax(scores)\n",
    "            if confidence>0.5:\n",
    "                center_x = int(tx*width)\n",
    "                center_y = int(ty*height)\n",
    "                w = int(tw*width)\n",
    "                h = int(th*height)\n",
    "                x = int(center_x-w/2)\n",
    "                y = int(center_y-h/2)\n",
    "                boxes.append([x, y, w, h])\n",
    "                confidences.append(float(confidence))\n",
    "                class_ids.append(class_id)\n",
    "    indexes = cv2.dnn.NMSBoxes(boxes, confidences, 0.5, 0.5)\n",
    "    \n",
    "    for i in range(len(boxes)):\n",
    "        if i in indexes:\n",
    "            x, y, w, h = boxes[i]\n",
    "            crop_img = img[y:y+h, x:x+w]\n",
    "            \n",
    "    return crop_img"
   ]
  },
  {
   "cell_type": "code",
   "execution_count": null,
   "metadata": {},
   "outputs": [],
   "source": [
    "from tensorflow.keras.models import load_model\n",
    "cnn = load_model('cnn_car_number.h5')"
   ]
  },
  {
   "cell_type": "code",
   "execution_count": null,
   "metadata": {},
   "outputs": [],
   "source": [
    "# 0-9的列表\n",
    "label_name_09 = [str(i) for i in range(10)]\n",
    "print(label_name_09)\n",
    "\n",
    "# A-Z的列表\n",
    "label_name_AZ = [chr(i+65) for i in range(26)]\n",
    "print(label_name_AZ)\n",
    "\n",
    "# 串接\n",
    "label_name = label_name_09 + label_name_AZ"
   ]
  },
  {
   "cell_type": "code",
   "execution_count": null,
   "metadata": {},
   "outputs": [],
   "source": [
    "def cnn_number(img):\n",
    "    sh, sw, _ = img.shape\n",
    "    gray_img = cv2.cvtColor(crop_img, cv2.COLOR_BGR2GRAY)\n",
    "    _, binary_img = cv2.threshold(gray_img, 127, 255, cv2.THRESH_BINARY_INV)\n",
    "\n",
    "    save_predict_name = []\n",
    "    save_contours = []\n",
    "    contours, hierarchy = cv2.findContours(binary_img, cv2.RETR_EXTERNAL, cv2.CHAIN_APPROX_SIMPLE)\n",
    "\n",
    "    for i in range(len(contours)):\n",
    "        (x, y, w, h) = cv2.boundingRect(contours[i]) \n",
    "        save_contours.append((x, y, w, h))\n",
    "    save_contours = sorted(save_contours, key=lambda x:x[0])\n",
    "            \n",
    "    for (x, y, w, h) in save_contours:\n",
    "        if sw*(3/20)>w>sw*(0.5/20) and sh*(19.5/20)>h>sh*(12/20):\n",
    "            number = gray_img[y:y+h, x:x+w]\n",
    "            re_number = cv2.resize(number, (50, 50),interpolation=cv2.INTER_CUBIC) \n",
    "            intput_number = np.expand_dims(np.expand_dims(re_number.astype('float32')/255,-1),0) \n",
    "            predict = cnn.predict(intput_number)\n",
    "            predict_name = label_name[np.argmax(predict)]\n",
    "            save_predict_name.append(predict_name) \n",
    "    \n",
    "    return \"\".join(save_predict_name)"
   ]
  },
  {
   "cell_type": "code",
   "execution_count": null,
   "metadata": {},
   "outputs": [],
   "source": [
    "img = cv2.imread(\"bmpraw001.bmp\")\n",
    "crop_img = yolo_detect(img)\n",
    "\n",
    "plt.imshow(crop_img)\n",
    "plt.show()"
   ]
  },
  {
   "cell_type": "code",
   "execution_count": null,
   "metadata": {},
   "outputs": [],
   "source": [
    "cnn_number(crop_img)"
   ]
  }
 ],
 "metadata": {
  "kernelspec": {
   "display_name": "Python 3",
   "language": "python",
   "name": "python3"
  },
  "language_info": {
   "codemirror_mode": {
    "name": "ipython",
    "version": 3
   },
   "file_extension": ".py",
   "mimetype": "text/x-python",
   "name": "python",
   "nbconvert_exporter": "python",
   "pygments_lexer": "ipython3",
   "version": "3.6.10"
  }
 },
 "nbformat": 4,
 "nbformat_minor": 4
}
