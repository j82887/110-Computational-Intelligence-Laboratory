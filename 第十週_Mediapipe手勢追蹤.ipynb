{
 "cells": [
  {
   "cell_type": "code",
   "execution_count": 1,
   "metadata": {},
   "outputs": [],
   "source": [
    "import mediapipe as mp\n",
    "import cv2"
   ]
  },
  {
   "cell_type": "code",
   "execution_count": 2,
   "metadata": {},
   "outputs": [],
   "source": [
    "mpDraw = mp.solutions.drawing_utils             # 繪製工具\n",
    "mpHands = mp.solutions.hands                    # 手勢工具\n",
    "\n",
    "# 1、顏色，2、線條粗細，3、點的半徑\n",
    "mpDraw_point = mpDraw.DrawingSpec((255, 255, 255), 3 , 3)\n",
    "mpDraw_line = mpDraw.DrawingSpec((0, 255, 255), 2, 2)\n",
    "\n",
    "hands = mpHands.Hands(static_image_mode = False,  # 偵測為靜態畫面，若為動態畫面（影片或攝影機）則設為真\n",
    "               max_num_hands = 2,                 # 最多偵測的手數量\n",
    "               min_detection_confidence = 0.9,    # 最小偵測置信度\n",
    "               min_tracking_confidence = 0.5)     # 最小追蹤置信度"
   ]
  },
  {
   "cell_type": "markdown",
   "metadata": {},
   "source": [
    "## 手的骨架點"
   ]
  },
  {
   "cell_type": "markdown",
   "metadata": {},
   "source": [
    "![](https://google.github.io/mediapipe/images/mobile/hand_landmarks.png)"
   ]
  },
  {
   "cell_type": "code",
   "execution_count": 3,
   "metadata": {},
   "outputs": [],
   "source": [
    "cap = cv2.VideoCapture(0)\n",
    "\n",
    "while True:\n",
    "    hasFrame, frame = cap.read()                          # 讀取攝影機的有無訊息與當前畫面\n",
    "    if not hasFrame: break                                # 攝影機無畫面時關閉\n",
    "    \n",
    "    (imgHeight, imgWidth, _) = frame.shape                # 影像形狀的寬高(於後骨架需要正規化回來計算所需)\n",
    "    imgRGB = cv2.cvtColor(frame, cv2.COLOR_BGR2RGB)       # 彩色影像GBR通道轉換為RGB通道\n",
    "    \n",
    "    result = hands.process(imgRGB)                        # Mediapipe手骨架預測結果\n",
    "    if result.multi_hand_landmarks:\n",
    "        for handLms in result.multi_hand_landmarks:\n",
    "            mpDraw.draw_landmarks(frame, handLms, mpHands.HAND_CONNECTIONS, mpDraw_point, mpDraw_line)\n",
    "            for i, lm in enumerate(handLms.landmark):\n",
    "                \n",
    "                # 手骨架點正規化還原\n",
    "                xPos = int(lm.x * imgWidth)\n",
    "                yPos = int(lm.y * imgHeight)\n",
    "                \n",
    "                # 影像上放置文字\n",
    "                cv2.putText(frame, str(i), (xPos-25, yPos+5), cv2.FONT_HERSHEY_SIMPLEX, 0.4, (0,0,255), 2)\n",
    "                \n",
    "                # 骨架點為8時：\n",
    "                if i==8:\n",
    "                    cv2.circle(frame, (xPos, yPos), 8, (255, 0, 0), cv2.FILLED) \n",
    "    \n",
    "    cv2.imshow(\"Hand Tracking\", frame)\n",
    "    \n",
    "    if cv2.waitKey(1) & 0xFF == ord('q'):\n",
    "        break\n",
    "\n",
    "cap.release()\n",
    "cv2.destroyAllWindows()"
   ]
  }
 ],
 "metadata": {
  "kernelspec": {
   "display_name": "Python 3",
   "language": "python",
   "name": "python3"
  },
  "language_info": {
   "codemirror_mode": {
    "name": "ipython",
    "version": 3
   },
   "file_extension": ".py",
   "mimetype": "text/x-python",
   "name": "python",
   "nbconvert_exporter": "python",
   "pygments_lexer": "ipython3",
   "version": "3.6.10"
  }
 },
 "nbformat": 4,
 "nbformat_minor": 4
}
