{
 "cells": [
  {
   "cell_type": "markdown",
   "metadata": {},
   "source": [
    "![](https://raw.githubusercontent.com/j82887/Computational-Intelligence-Laboratory/main/Image/3-3.png)"
   ]
  },
  {
   "cell_type": "markdown",
   "metadata": {},
   "source": [
    "## 01. 讀取鳶尾花資料集"
   ]
  },
  {
   "cell_type": "code",
   "execution_count": null,
   "metadata": {},
   "outputs": [],
   "source": [
    "from sklearn import datasets\n",
    "\n",
    "iris = datasets.load_iris()\n",
    "print(iris.keys())"
   ]
  },
  {
   "cell_type": "code",
   "execution_count": null,
   "metadata": {},
   "outputs": [],
   "source": [
    "from collections import Counter\n",
    "\n",
    "features = iris.data\n",
    "label = iris.target\n",
    "features_name = iris.feature_names\n",
    "label_name = iris.target_names\n",
    "\n",
    "print(\"標籤類別數量：\", Counter(label))\n",
    "print(\"特徵名稱：\", features_name)\n",
    "print(\"標籤名稱：\", label_name)"
   ]
  },
  {
   "cell_type": "markdown",
   "metadata": {},
   "source": [
    "## 02. 資料視覺化"
   ]
  },
  {
   "cell_type": "code",
   "execution_count": null,
   "metadata": {},
   "outputs": [],
   "source": [
    "import pandas as pd\n",
    "df = pd.DataFrame(features, columns=features_name)\n",
    "df['label'] = [label_name[i] for i in label.astype(int)]\n",
    "df.head()"
   ]
  },
  {
   "cell_type": "code",
   "execution_count": null,
   "metadata": {},
   "outputs": [],
   "source": [
    "import seaborn as sns\n",
    "sns.pairplot(df, hue='label')"
   ]
  },
  {
   "cell_type": "markdown",
   "metadata": {},
   "source": [
    "## 03. 建立邏輯回歸模型 (Scikit-learn)"
   ]
  },
  {
   "cell_type": "code",
   "execution_count": null,
   "metadata": {},
   "outputs": [],
   "source": [
    "from sklearn.linear_model import LogisticRegression\n",
    "\n",
    "LR_Model = LogisticRegression(random_state=0, max_iter=1000)\n",
    "LR_Model.fit(features, label)\n",
    "predict = LR_Model.predict(features)\n",
    "predict_proba = LR_Model.predict_proba(features)"
   ]
  },
  {
   "cell_type": "markdown",
   "metadata": {},
   "source": [
    "## 04. 驗證指標"
   ]
  },
  {
   "cell_type": "code",
   "execution_count": null,
   "metadata": {},
   "outputs": [],
   "source": [
    "from sklearn.metrics import confusion_matrix, accuracy_score\n",
    "\n",
    "cm = confusion_matrix(label, predict)\n",
    "acc = accuracy_score(label, predict)\n",
    "print(\"混淆矩陣：\\n\", cm)\n",
    "print(\"準確度：%0.3f\" %(acc))"
   ]
  },
  {
   "cell_type": "code",
   "execution_count": null,
   "metadata": {},
   "outputs": [],
   "source": [
    "import matplotlib.pyplot as plt\n",
    "\n",
    "plt.figure(figsize=(5,5))\n",
    "sns.heatmap(cm, annot=True, fmt='.0f', linewidths=1.0, square=True, cmap = 'Blues_r',annot_kws={\"size\": 20})\n",
    "plt.ylabel('Actual label', size = 18)\n",
    "plt.xlabel('Predicted label', size = 18)\n",
    "plt.title('Accuracy: %0.4f' %(acc), size = 20)\n",
    "plt.show()"
   ]
  },
  {
   "cell_type": "markdown",
   "metadata": {},
   "source": [
    "## 05. 模型可解釋性：視覺化"
   ]
  },
  {
   "cell_type": "code",
   "execution_count": null,
   "metadata": {},
   "outputs": [],
   "source": [
    "print(\"模型權重(係數):\\n\", LR_Model.coef_)\n",
    "print(\"模型偏差(截距):\", LR_Model.intercept_)"
   ]
  },
  {
   "cell_type": "code",
   "execution_count": null,
   "metadata": {},
   "outputs": [],
   "source": [
    "plt.figure(figsize=(6, 8))\n",
    "plt.title('Feature importance',size = 20)\n",
    "plt.plot(LR_Model.coef_[0].T,'o',markersize=12, color = 'blue', alpha = 0.5)\n",
    "plt.plot(LR_Model.coef_[1].T,'o',markersize=12, color = 'orange', alpha = 0.5) \n",
    "plt.plot(LR_Model.coef_[2].T,'o',markersize=12, color = 'green', alpha = 0.5) \n",
    "plt.xticks(range(len(features_name)), features_name , rotation=90, size = 16)\n",
    "plt.yticks(rotation=0, size = 16)\n",
    "plt.legend(loc='upper left', labels=label_name, fontsize = 'x-large') \n",
    "plt.ylim(-3, 3)  \n",
    "plt.grid() \n",
    "plt.xlabel(\"Feature\",size = 18) \n",
    "plt.ylabel(\"Coefficient magnitude\",size = 18)\n",
    "plt.show()"
   ]
  },
  {
   "cell_type": "markdown",
   "metadata": {},
   "source": [
    "## 06. 儲存與讀取模型 (Scikit-learn)"
   ]
  },
  {
   "cell_type": "code",
   "execution_count": null,
   "metadata": {},
   "outputs": [],
   "source": [
    "import joblib\n",
    "joblib.dump(LR_Model, 'Iris_LR.pkl') \n",
    "LR_Model = joblib.load('Iris_LR.pkl')"
   ]
  },
  {
   "cell_type": "code",
   "execution_count": null,
   "metadata": {},
   "outputs": [],
   "source": [
    "test_features = [[9.0, 3.2, 1.1, 0.1]]\n",
    "predict = LR_Model.predict(test_features)\n",
    "print(\"預測為：\", label_name[predict])"
   ]
  },
  {
   "cell_type": "markdown",
   "metadata": {},
   "source": [
    "# Homework \n",
    "\n",
    "* 使用糖尿病資料集 [[連結]](https://www.kaggle.com/uciml/pima-indians-diabetes-database) 進行邏輯回歸實作，與課程相同，需要包含：\n",
    "    * 資料處理(正規化[0-1])\n",
    "    * 資料分割(訓練集70% 、驗證集15%、測試集15%)\n",
    "    * 資料視覺化\n",
    "    * 模型訓練\n",
    "    * 模型可解釋性(視覺化)\n",
    "    * 儲存與讀取模型\n",
    "\n",
    "* 模型中最高得重要性的特徵是否與我們認知的糖尿病了解呈相關？(比如醫學認知空腹血糖高、肥胖是糖尿病重要因子，模型是呈現同樣結果?)  (使用Scikit-learn的邏輯回歸實作)"
   ]
  },
  {
   "cell_type": "code",
   "execution_count": null,
   "metadata": {},
   "outputs": [],
   "source": []
  }
 ],
 "metadata": {
  "kernelspec": {
   "display_name": "Python 3",
   "language": "python",
   "name": "python3"
  },
  "language_info": {
   "codemirror_mode": {
    "name": "ipython",
    "version": 3
   },
   "file_extension": ".py",
   "mimetype": "text/x-python",
   "name": "python",
   "nbconvert_exporter": "python",
   "pygments_lexer": "ipython3",
   "version": "3.6.10"
  }
 },
 "nbformat": 4,
 "nbformat_minor": 4
}
