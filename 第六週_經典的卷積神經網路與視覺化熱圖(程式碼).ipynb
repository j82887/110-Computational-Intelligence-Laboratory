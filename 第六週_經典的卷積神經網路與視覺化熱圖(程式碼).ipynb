{
 "cells": [
  {
   "cell_type": "markdown",
   "metadata": {},
   "source": [
    "## IMAGENET 影像辨識比賽\n",
    "* 約100萬張影像，共1000個類別\n",
    "* 有許多深度學習框架也納入這些模型，提供我們方便直接使用: [[Tensorflow]](https://www.tensorflow.org/api_docs/python/tf/keras/applications) [[Keras]](https://keras.io/api/applications/)[[Pytorch]](https://pytorch.org/hub/research-models)"
   ]
  },
  {
   "cell_type": "code",
   "execution_count": null,
   "metadata": {},
   "outputs": [],
   "source": [
    "from tensorflow.keras.preprocessing import image\n",
    "#from tensorflow.keras.applications.mobilenet import MobileNet\n",
    "#from tensorflow.keras.applications.mobilenet import preprocess_input, decode_predictions\n",
    "from tensorflow.keras.applications.resnet50 import ResNet50\n",
    "from tensorflow.keras.applications.resnet50 import preprocess_input, decode_predictions\n",
    "\n",
    "import numpy as np"
   ]
  },
  {
   "cell_type": "code",
   "execution_count": null,
   "metadata": {},
   "outputs": [],
   "source": [
    "img_path = \"elephant.jpg\"\n",
    "img = image.load_img(img_path, target_size=(224, 224))\n",
    "x = image.img_to_array(img)\n",
    "x = np.expand_dims(x, 0)"
   ]
  },
  {
   "cell_type": "code",
   "execution_count": null,
   "metadata": {
    "scrolled": true
   },
   "outputs": [],
   "source": [
    "model = ResNet50(weights=\"imagenet\")\n",
    "#model = MobileNet(weights=\"imagenet\")"
   ]
  },
  {
   "cell_type": "code",
   "execution_count": null,
   "metadata": {},
   "outputs": [],
   "source": [
    "model.summary()"
   ]
  },
  {
   "cell_type": "markdown",
   "metadata": {},
   "source": [
    "* decode_predictions(preds, top=n) 可以預測前top=n的數量的預測值，預設為n=5"
   ]
  },
  {
   "cell_type": "code",
   "execution_count": null,
   "metadata": {},
   "outputs": [],
   "source": [
    "preds = model.predict(x)\n",
    "print(\"Predicted:\", decode_predictions(preds, top=3)[0])"
   ]
  },
  {
   "cell_type": "markdown",
   "metadata": {},
   "source": [
    "## Grad-CAM CNN視覺化 [[論文]](https://arxiv.org/abs/1610.02391)"
   ]
  },
  {
   "cell_type": "markdown",
   "metadata": {},
   "source": [
    "* Numpy中的maximum：比較兩個陣列對應元素並取最大值 [[連結]](https://numpy.org/doc/stable/reference/generated/numpy.maximum.html)\n",
    "* Keras中的backend.mean：張量在某一指定軸的平均值 [[連結]](https://www.tensorflow.org/api_docs/python/tf/keras/backend)\n"
   ]
  },
  {
   "cell_type": "code",
   "execution_count": null,
   "metadata": {},
   "outputs": [],
   "source": [
    "from tensorflow.keras import models\n",
    "from tensorflow.keras import backend as K\n",
    "import tensorflow as tf\n",
    "import matplotlib.pyplot as plt"
   ]
  },
  {
   "cell_type": "code",
   "execution_count": null,
   "metadata": {},
   "outputs": [],
   "source": [
    "conv_layer = model.get_layer(\"conv4_block6_2_conv\")                               # 獲取預提取的卷積層\n",
    "heatmap_model = models.Model([model.inputs], [conv_layer.output, model.output])   # 建一「輸入層」至「預提取的卷積層為輸出層」的模型\n",
    "\n",
    "with tf.GradientTape() as gtape:\n",
    "    conv_output, predictions = heatmap_model(x)\n",
    "    prob = predictions[:, np.argmax(predictions[0])]  # 取機率最大的類別之機率\n",
    "    grads = gtape.gradient(prob, conv_output)         # 類別與卷積層的梯度\n",
    "    pooled_grads = K.mean(grads, axis=(0, 1, 2))      # 每層權重平\n",
    "\n",
    "heatmap = tf.reduce_mean(tf.multiply(pooled_grads, conv_output), axis=-1)  #權重與特徵圖相乘，並求和平均\n",
    "heatmap = np.maximum(heatmap, 0)    # 比較兩個陣列對應元素取最大值。若一陣列是給0，則代表另一陣列的值若是負數，則變為0。\n",
    "heatmap /=  np.max(heatmap)         # 正規化\n",
    "heatmap = heatmap[0]\n",
    "\n",
    "plt.imshow(heatmap)\n",
    "plt.show()"
   ]
  },
  {
   "cell_type": "markdown",
   "metadata": {},
   "source": [
    "### 熱圖與原圖結合\n",
    "* OpenCV中的applyColorMap [[連結]](https://docs.opencv.org/4.x/d3/d50/group__imgproc__colormap.html)\n",
    "* OpenCV中的addWeighted [[連結]](https://docs.opencv.org/3.4/d5/dc4/tutorial_adding_images.html)"
   ]
  },
  {
   "cell_type": "code",
   "execution_count": null,
   "metadata": {},
   "outputs": [],
   "source": [
    "import cv2\n",
    "\n",
    "def add_heatmap(heatmap, image, alpha=0.8, colormap=cv2.COLORMAP_VIRIDIS):\n",
    "    heatmap = cv2.applyColorMap(heatmap, colormap)                 # 偽顏色映射\n",
    "    output = cv2.addWeighted(image, alpha, heatmap, 1 - alpha, 0)  # 兩個影像疊加\n",
    "    return output"
   ]
  },
  {
   "cell_type": "code",
   "execution_count": null,
   "metadata": {},
   "outputs": [],
   "source": [
    "img = cv2.imread(img_path)\n",
    "\n",
    "heatmap = cv2.resize(heatmap, (img.shape[1], img.shape[0])) # 將熱圖的影像更改大小與原圖相同\n",
    "heatmap = np.uint8(255*heatmap)                             # 將正規化的數值轉為原來數值，即乘以255，並轉為整數型別\n",
    "\n",
    "output = add_heatmap(heatmap, img, alpha=0.5)\n",
    "output = cv2.cvtColor(output, cv2.COLOR_BGR2RGB)\n",
    "\n",
    "plt.imshow(output)\n",
    "plt.show()"
   ]
  },
  {
   "cell_type": "markdown",
   "metadata": {},
   "source": [
    "** *\n",
    "\n",
    "# 黃豆影像資料集\n",
    "* 清華大學與合作農場所搜集的黃豆影像\n",
    "* 訓練集有19,198張影像，測試集有4,785張影像"
   ]
  },
  {
   "cell_type": "markdown",
   "metadata": {},
   "source": [
    "## **作業**\n",
    "\n",
    "* 以黃豆資料集訓練任意兩個經典的卷積神經網路模型 (40%)\n",
    "* 比較兩個模型的測試集之混淆矩陣、準確度、敏感度、特異度與ROC曲線 (20%，各4%)\n",
    "* 以準確度最高的模型使用Grad-CAM呈現視覺化熱圖，測試一張壞掉的黃豆，具有顯著的壞掉特徵 (40%) \n",
    "\n",
    "### ※ 相關黃豆論文[[連結]](https://www.sciencedirect.com/science/article/abs/pii/S0168169921002477)\n",
    "![](https://ars.els-cdn.com/content/image/1-s2.0-S0168169921002477-gr12.jpg)"
   ]
  },
  {
   "cell_type": "code",
   "execution_count": null,
   "metadata": {},
   "outputs": [],
   "source": []
  }
 ],
 "metadata": {
  "kernelspec": {
   "display_name": "Python 3",
   "language": "python",
   "name": "python3"
  },
  "language_info": {
   "codemirror_mode": {
    "name": "ipython",
    "version": 3
   },
   "file_extension": ".py",
   "mimetype": "text/x-python",
   "name": "python",
   "nbconvert_exporter": "python",
   "pygments_lexer": "ipython3",
   "version": "3.6.10"
  }
 },
 "nbformat": 4,
 "nbformat_minor": 4
}
