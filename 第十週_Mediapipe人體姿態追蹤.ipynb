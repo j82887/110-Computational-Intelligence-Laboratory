{
 "cells": [
  {
   "cell_type": "code",
   "execution_count": 1,
   "metadata": {},
   "outputs": [],
   "source": [
    "import mediapipe as mp\n",
    "import cv2\n",
    "import time\n",
    "import numpy as np"
   ]
  },
  {
   "cell_type": "code",
   "execution_count": 2,
   "metadata": {},
   "outputs": [],
   "source": [
    "mpDraw = mp.solutions.drawing_utils\n",
    "mpPoses = mp.solutions.pose\n",
    "\n",
    "mpDraw_point = mpDraw.DrawingSpec((255, 255, 255), 3 , 3)\n",
    "mpDraw_line = mpDraw.DrawingSpec((0, 255, 255), 2, 2)\n",
    "\n",
    "poses = mpPoses.Pose(min_detection_confidence=0.5, # 最小偵測置信度\n",
    "                    min_tracking_confidence=0.5)  # 最小追蹤置信度"
   ]
  },
  {
   "cell_type": "markdown",
   "metadata": {},
   "source": [
    "## 身體骨架點"
   ]
  },
  {
   "cell_type": "markdown",
   "metadata": {},
   "source": [
    "![](https://google.github.io/mediapipe/images/mobile/pose_tracking_full_body_landmarks.png)"
   ]
  },
  {
   "cell_type": "code",
   "execution_count": 3,
   "metadata": {},
   "outputs": [],
   "source": [
    "cap = cv2.VideoCapture(0)\n",
    "\n",
    "while cap.isOpened():\n",
    "    hasFrame, frame = cap.read()                         # 讀取攝影機的有無訊息與當前畫面\n",
    "    if not hasFrame: break                               # 攝影機無畫面時關閉\n",
    "    \n",
    "    (imgHeight, imgWidth, _) = frame.shape               # 影像形狀的寬高(於後骨架需要正規化回來計算所需)\n",
    "    imgRGB = cv2.cvtColor(frame, cv2.COLOR_BGR2RGB)      # 彩色影像GBR通道轉換為RGB通道\n",
    "\n",
    "    result = poses.process(imgRGB)                        # Mediapipe身體骨架預測結果\n",
    "    if result.pose_landmarks:\n",
    "        for i, lm in enumerate(result.pose_landmarks.landmark):\n",
    "            mpDraw.draw_landmarks(frame, result.pose_landmarks, mpPoses.POSE_CONNECTIONS, mpDraw_point, mpDraw_line)\n",
    "        \n",
    "            # 身體骨架點正規化還原\n",
    "            xPos = int(lm.x * imgWidth)\n",
    "            yPos = int(lm.y * imgHeight)\n",
    "            \n",
    "            # 影像上放置文字\n",
    "            cv2.putText(frame, str(i), (xPos-25, yPos+5), cv2.FONT_HERSHEY_SIMPLEX, 0.4, (0,0,255), 2)\n",
    "                \n",
    "            #if i==8:\n",
    "            #    cv2.circle(frame, (xPos, yPos), 8, (255, 0, 0), cv2.FILLED) \n",
    "\n",
    "    cv2.imshow(\"Hand Tracking\", frame)\n",
    "\n",
    "    if cv2.waitKey(1) & 0xFF == ord('q'):\n",
    "        break\n",
    "\n",
    "cap.release()\n",
    "cv2.destroyAllWindows()"
   ]
  },
  {
   "cell_type": "code",
   "execution_count": null,
   "metadata": {},
   "outputs": [],
   "source": []
  }
 ],
 "metadata": {
  "kernelspec": {
   "display_name": "Python 3",
   "language": "python",
   "name": "python3"
  },
  "language_info": {
   "codemirror_mode": {
    "name": "ipython",
    "version": 3
   },
   "file_extension": ".py",
   "mimetype": "text/x-python",
   "name": "python",
   "nbconvert_exporter": "python",
   "pygments_lexer": "ipython3",
   "version": "3.6.10"
  }
 },
 "nbformat": 4,
 "nbformat_minor": 4
}
